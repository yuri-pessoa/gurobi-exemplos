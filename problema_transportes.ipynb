{
  "cells": [
    {
      "cell_type": "markdown",
      "metadata": {
        "id": "view-in-github",
        "colab_type": "text"
      },
      "source": [
        "<a href=\"https://colab.research.google.com/github/yuri-pessoa/gurobi-exemplos/blob/main/problema_transportes.ipynb\" target=\"_parent\"><img src=\"https://colab.research.google.com/assets/colab-badge.svg\" alt=\"Open In Colab\"/></a>"
      ]
    },
    {
      "cell_type": "markdown",
      "metadata": {
        "id": "ZvrRSxWeCCcw"
      },
      "source": [
        "# Iniciando com Gurobi\n",
        "Primeiramente devemos instalar o Gurobi Python API com o comando `` %pip install gurobipy ``\n",
        "\n",
        "Esta aplicação fornece uma licença provisória do solver Gurobi, com recursos limitados. Para utilizar a licença com recursos completos, você deve aplicar para uma licença acadêmica no site."
      ]
    },
    {
      "cell_type": "code",
      "execution_count": null,
      "metadata": {
        "id": "-8V_Q91M-tG-"
      },
      "outputs": [],
      "source": [
        "%pip install gurobipy"
      ]
    },
    {
      "cell_type": "markdown",
      "metadata": {
        "id": "vgVW6jbeJs8s"
      },
      "source": [
        "Agora importamos as bibliotecas que iremos utilizar. Note que o ``gurobipy`` é importado como uma biblioteca do Python."
      ]
    },
    {
      "cell_type": "code",
      "execution_count": null,
      "metadata": {
        "id": "QpS-ZDGI-sHC"
      },
      "outputs": [],
      "source": [
        "import gurobipy as gp\n",
        "from gurobipy import GRB\n",
        "import pandas as pd"
      ]
    },
    {
      "cell_type": "markdown",
      "metadata": {
        "id": "PWxso4BpJs8t"
      },
      "source": [
        "# Descrição do problema\n",
        "\n",
        "Neste exemplo temos um problema de produção e distribuição, onde queremos determinar a produção ótima de dois produtos, canetas e lápis, a partir de duas fábricas.<br>Em seguida, devemos determinar a distribuição das canetas e lápis entre as fábricas e os centros de distribuição, de modo a atender a demanda. <br>Cada fábrica possui custos de produção que variam conforme a cidade a ser atendida. Cada cidade possui uma demanda que deve ser atendida.\n",
        "\n",
        "### Conjuntos\n",
        "\n",
        "- $P = \\{\\texttt{Canetas, Lápis}\\} \\quad\\quad\\quad\\quad \\texttt{Produtos}$\n",
        "\n",
        "- $F = \\{\\texttt{Fábrica 1,Fábrica 2}\\} \\quad\\quad\\quad\\quad \\texttt{Fábricas}$\n",
        "\n",
        "- $C = \\{\\texttt{Cidade 1, Cidade 2, Cidade 3}\\} \\quad\\quad\\quad\\quad \\texttt{Cidades}$\n",
        "\n",
        "### Parâmetros\n",
        "\n",
        "- $p_f$ é a capacidade de produção em cada fábrica $f$, $ \\space \\forall f \\in F$\n",
        "- $d_c$ é a demanda em cada cidade $c$, $ \\space \\forall c \\in C$\n",
        "- $c_{p,f,c}$ é o custo de enviar um produto $p$ da fábrica $f$ até a cidade $c$, $\\forall p \\in P, \\space \\forall f \\in F, \\space \\forall c \\in C$\n",
        "- $x_{p, f}$ é a quantidade de produtos $p$ produzidos na fábrica $f$, $\\forall p \\in P, \\space \\forall f \\in F$\n",
        "- $x_{p, c}$ é a quantidade de produtos $p$ recebidos na cidade $c$, $\\forall p \\in P, \\space \\forall c \\in C$\n",
        "\n",
        "### Restrições\n",
        "$$\n",
        "\\begin{align*}\n",
        "\\sum_{p}x_{p, f, c} &\\le p_f, &\\forall f \\in F \\quad \\quad \\quad &\\texttt{produção[p]}\\\\\n",
        "\\sum_{d}x_{p, f, c} &\\ge d_c, &\\forall c \\in C \\quad \\quad \\quad &\\texttt{demanda[d]}\\\\\n",
        "x_{p, f} \\space = \\space x_{p, c}, &\\space &\\forall p \\in P, \\forall f \\in F, \\forall c \\in C &\\space\\texttt{conservação[p, d]}\\\\\n",
        "\\end{align*}\n",
        "$$"
      ]
    },
    {
      "cell_type": "markdown",
      "metadata": {
        "id": "KMHYfS4g-sHE"
      },
      "source": [
        "Iniciamos a modelagem com a criação dos conjuntos e parâmetros deste problema.\n"
      ]
    },
    {
      "cell_type": "code",
      "execution_count": null,
      "metadata": {
        "id": "TG7y7Iv2-sHH"
      },
      "outputs": [],
      "source": [
        "produtos = ['Canetas', 'Lápis']\n",
        "\n",
        "nós = ['Fábrica 1', 'Fábrica 2', 'Cidade 1', 'Cidade 2', 'Cidade 3']\n",
        "\n",
        "arcos, capacidade = gp.multidict({\n",
        "    ('Fábrica 1', 'Cidade 1'): 100,\n",
        "    ('Fábrica 1', 'Cidade 2'): 80,\n",
        "    ('Fábrica 1', 'Cidade 3'): 120,\n",
        "    ('Fábrica 2', 'Cidade 1'): 120,\n",
        "    ('Fábrica 2', 'Cidade 2'): 120,\n",
        "    ('Fábrica 2', 'Cidade 3'): 120\n",
        "})\n",
        "\n",
        "custos = {\n",
        "    ('Canetas', 'Fábrica 1', 'Cidade 1'): 10,\n",
        "    ('Canetas', 'Fábrica 1', 'Cidade 2'): 20,\n",
        "    ('Canetas', 'Fábrica 1', 'Cidade 3'): 60,\n",
        "    ('Canetas', 'Fábrica 2', 'Cidade 1'): 40,\n",
        "    ('Canetas', 'Fábrica 2', 'Cidade 2'): 40,\n",
        "    ('Canetas', 'Fábrica 2', 'Cidade 3'): 30,\n",
        "    ('Lápis', 'Fábrica 1', 'Cidade 1'): 20,\n",
        "    ('Lápis', 'Fábrica 1', 'Cidade 2'): 20,\n",
        "    ('Lápis', 'Fábrica 1', 'Cidade 3'): 80,\n",
        "    ('Lápis', 'Fábrica 2', 'Cidade 1'): 60,\n",
        "    ('Lápis', 'Fábrica 2', 'Cidade 2'): 70,\n",
        "    ('Lápis', 'Fábrica 2', 'Cidade 3'): 30\n",
        "}\n",
        "\n",
        "# valores positivos indica produção nas fábricas, valores negativos indica demanda nas cidades\n",
        "produção = {\n",
        "    ('Canetas', 'Fábrica 1'): 60,\n",
        "    ('Canetas', 'Fábrica 2'): 50,\n",
        "    ('Lápis', 'Fábrica 1'): 60,\n",
        "    ('Lápis', 'Fábrica 2'): 40,\n",
        "    ('Canetas', 'Cidade 1'): -50,\n",
        "    ('Canetas', 'Cidade 2'): -50,\n",
        "    ('Canetas', 'Cidade 3'): -10,\n",
        "    ('Lápis', 'Cidade 1'): -40,\n",
        "    ('Lápis', 'Cidade 2'): -30,\n",
        "    ('Lápis', 'Cidade 3'): -30\n",
        "}\n"
      ]
    },
    {
      "cell_type": "markdown",
      "metadata": {
        "id": "lspHQK_4-sHJ"
      },
      "source": [
        "Nesta seção criamos o modelo MIP invocando o ``gurobipy`` e ao final geramos a sua solução utilizando a instrução ``modelo.optimize()``.\n",
        "\n"
      ]
    },
    {
      "cell_type": "code",
      "execution_count": null,
      "metadata": {
        "id": "FQZ7jPRV-sHK"
      },
      "outputs": [],
      "source": [
        "# iniciamos invocando a função try, que condiciona a execução do código a ocorrência de erros durante a criação do modelo. Caso não encontre erros o código é executado\n",
        "try:\n",
        "# invoca o comando gp.Model para criar e nomear o modelo\n",
        "    modelo = gp.Model('rede logística multiproduto')\n",
        "\n",
        "# invoca o comando addVars para criar a função objetivo e as variáveis decisórias\n",
        "    fluxo = modelo.addVars(produtos, arcos, obj=custos, name='fluxo')\n",
        "\n",
        "# visualiza as variáveis decisórias e sua quantidade\n",
        "    #print(fluxo)\n",
        "    #print(type(fluxo))\n",
        "    #print(len(fluxo))\n",
        "\n",
        "# crias as restrições de capacidade de produção\n",
        "    r1 = modelo.addConstrs(\n",
        "        (fluxo.sum('*', i, j) <= capacidade[i, j] for i, j in arcos), 'capacidade')\n",
        "\n",
        "# cria as restrições de conservação de fluxo\n",
        "    r2 = modelo.addConstrs((fluxo.sum( p, '*', j) + produção[p, j] == fluxo.sum(p, j, '*')\n",
        "        for p in produtos for j in nós), 'conservação')\n",
        "\n",
        "# invoca o comando para otimizar o modelo minimizando os custos por padrão\n",
        "    modelo.optimize()\n",
        "# gerando as exceções para identificarmos erros no código\n",
        "except gp.GurobiError as e:\n",
        "    print('Temos um código de erro' + str(e.errno) + ':' + str(e))\n",
        "\n",
        "except Exception as e:\n",
        "    print('Ops, temos um erro de atributo: {:s} '.format(str(e)))\n"
      ]
    },
    {
      "cell_type": "markdown",
      "metadata": {
        "id": "2vYORdDo_cZq"
      },
      "source": [
        "Imprimindo a solução do problema de transporte\n",
        "\n"
      ]
    },
    {
      "cell_type": "code",
      "execution_count": null,
      "metadata": {
        "id": "V8PanNOi_oPP"
      },
      "outputs": [],
      "source": [
        "# imprimindo a solução\n",
        "def imprime_solução():\n",
        "    if modelo.Status==GRB.OPTIMAL:\n",
        "        print('Solução ótima encontrada:')\n",
        "        pd.solution = modelo.getAttr('X', fluxo)\n",
        "        for p in produtos:\n",
        "            print('Fluxo ótimo de {:s}: '.format(p), sep='\\n')\n",
        "            for i, j in arcos:\n",
        "                if pd.solution[p, i, j] > 0:\n",
        "                    print('{:s} -> {:s}: {:g}'.format(i, j, pd.solution[p, i, j]))\n",
        "    else:\n",
        "        print('Solução subótima encontrada: ')\n",
        "        pd.solution = modelo.getAttr('X', fluxo)\n",
        "        for p in produtos:\n",
        "            print('Fluxo ótimo de {:s}:'.format(p), sep='\\n')\n",
        "            for i, j in arcos:\n",
        "                if pd.solution[p, i, j] > 0:\n",
        "                    print('{:s} -> {:s}: {:g}'.format(i, j, pd.solution[p, i, j]))\n",
        "\n",
        "\n",
        "imprime_solução()"
      ]
    },
    {
      "cell_type": "markdown",
      "metadata": {
        "id": "iBmDubnkJs8z"
      },
      "source": [
        "# Adicionando uma terceira restrição ao modelo\n",
        "\n",
        "Recentemente o diretor de produção da empresa decidiu que cada fábrica deverá enviar para cada cidade a quantidade mínima de 12 caixas de produtos, compartilhadas entre canetas e lápis. Isso quer dizer que agora temos uma quantidade mínima de caixas a serem enviadas para cada uma das três cidades.\n",
        "\n",
        "$$\n",
        "\\begin{align*}\n",
        "\\sum_{p}x_{f,c} \\space \\ge \\space 12, &\\space \\forall f \\in F \\space \\forall c \\in C \\quad \\quad \\quad &\\texttt{envio}\\_\\texttt{minimo[f, c]}\\end{align*}\n",
        "$$"
      ]
    },
    {
      "cell_type": "code",
      "execution_count": null,
      "metadata": {
        "id": "C5mJw2LCJs80"
      },
      "outputs": [],
      "source": [
        "r3 = modelo.addConstrs((fluxo.sum('*', i, j) >= 12 for i, j in arcos), name='envio_minimo')\n",
        "modelo.update()"
      ]
    },
    {
      "cell_type": "code",
      "execution_count": null,
      "metadata": {
        "id": "gT687Hh0Js80"
      },
      "outputs": [],
      "source": [
        "# gerando a solução após a inclusão da terceira restrição\n",
        "modelo.optimize()\n"
      ]
    },
    {
      "cell_type": "code",
      "execution_count": null,
      "metadata": {
        "id": "Ln3ZKIKFJs81"
      },
      "outputs": [],
      "source": [
        "# imprimindo a segunda solução do modelo\n",
        "imprime_solução()"
      ]
    },
    {
      "cell_type": "markdown",
      "metadata": {
        "id": "ucSxv_CnJs82"
      },
      "source": [
        "Chegamos ao fim deste exemplo! <br>\n",
        "Compare as diferenças entre a primeira e a segunda solução do modelo. O que mudou?\n"
      ]
    }
  ],
  "metadata": {
    "colab": {
      "provenance": [],
      "include_colab_link": true
    },
    "kernelspec": {
      "display_name": "Python 3",
      "language": "python",
      "name": "python3"
    },
    "language_info": {
      "codemirror_mode": {
        "name": "ipython",
        "version": 3
      },
      "file_extension": ".py",
      "mimetype": "text/x-python",
      "name": "python",
      "nbconvert_exporter": "python",
      "pygments_lexer": "ipython3",
      "version": "3.9.15"
    },
    "orig_nbformat": 4
  },
  "nbformat": 4,
  "nbformat_minor": 0
}
