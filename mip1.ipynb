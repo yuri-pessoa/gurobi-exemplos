{
  "cells": [
    {
      "cell_type": "markdown",
      "metadata": {
        "id": "view-in-github",
        "colab_type": "text"
      },
      "source": [
        "<a href=\"https://colab.research.google.com/github/yuri-pessoa/gurobi-exemplos/blob/main/mip1.ipynb\" target=\"_parent\"><img src=\"https://colab.research.google.com/assets/colab-badge.svg\" alt=\"Open In Colab\"/></a>"
      ]
    },
    {
      "cell_type": "markdown",
      "metadata": {
        "id": "bhB9JYn4-xY4"
      },
      "source": [
        "# Iniciando com Gurobi\n",
        "Primeiramente devemos instalar o Gurobi Python API com o comando `` %pip install gurobipy ``\n",
        "\n",
        "Esta aplicação fornece uma licença provisória do solver Gurobi, com recursos limitados. Para utilizar a licença com recursos completos, você deve aplicar para uma licença acadêmica no site."
      ]
    },
    {
      "cell_type": "code",
      "execution_count": null,
      "metadata": {
        "id": "oBtEIHRm-xY9"
      },
      "outputs": [],
      "source": [
        "%pip install gurobipy"
      ]
    },
    {
      "cell_type": "code",
      "execution_count": null,
      "metadata": {
        "id": "Rr0oCzu9-xY-"
      },
      "outputs": [],
      "source": [
        "import gurobipy as gp\n",
        "from gurobipy import GRB"
      ]
    },
    {
      "cell_type": "markdown",
      "metadata": {
        "id": "4xFfjeeN-xY_"
      },
      "source": [
        "\n",
        "$$\n",
        "\\begin{align*}\n",
        "maximizar \\space x + y + 2z \\end{align*}\\\\\n",
        "sujeito \\space a:\\\\ \\\\\n",
        "x + 2y +3z \\le 4\\\\ \\\\\n",
        "x + y \\ge 1\\\\ \\\\\n",
        "x, y, z \\in [0, 1]\n",
        "$$\n",
        "\n",
        "\n"
      ]
    },
    {
      "cell_type": "code",
      "execution_count": null,
      "metadata": {
        "id": "gOGqV06O-xZA"
      },
      "outputs": [],
      "source": [
        "'''\n",
        "### descrição do modelo ###\n",
        "\n",
        "maximizar:\n",
        "    x + y + 2z\n",
        "\n",
        "sujeito a:\n",
        "\n",
        "    x + 2y + 3z <= 4\n",
        "    x + y       >= 1\n",
        "    x, y, z são variáveis binárias\n",
        "\n",
        "'''\n",
        "\n",
        "try:\n",
        "    # criando o modelo\n",
        "    m = gp.Model('mip1')\n",
        "\n",
        "    # criando variáveis do modelo\n",
        "\n",
        "    x = m.addVar(vtype=GRB.BINARY, name='x')\n",
        "\n",
        "    y = m.addVar(vtype=GRB.BINARY, name='y')\n",
        "\n",
        "    z = m.addVar(vtype=GRB.BINARY, name='z')\n",
        "\n",
        "    # indicar o objetivo do modelo\n",
        "\n",
        "    m.setObjective(x + y + 2 * z, GRB.MAXIMIZE)\n",
        "\n",
        "    # criando as restrições do modelo\n",
        "\n",
        "    m.addConstr( x + 2 * y + 3 * z <= 4, 'restrição_1')\n",
        "    m.addConstr( x + y >= 1, 'restrição_2')\n",
        "\n",
        "    # iniciando a otimização\n",
        "\n",
        "    m.optimize()\n",
        "\n",
        "    # reportando o resultado\n",
        "\n",
        "    for v in m.getVars():\n",
        "        print('%s %g' % (v.varName, v.X))\n",
        "\n",
        "    print('Valor Objetivo: %g' % m.objVal)\n",
        "\n",
        "except gp.GurobiError as e:\n",
        "    print('Código de erro' + str(e.errno) + ': ' + str(e))\n",
        "\n",
        "except Exception as e:\n",
        "    print('Encontramos um erro: {} '.format(str(e)))\n"
      ]
    },
    {
      "cell_type": "code",
      "execution_count": null,
      "metadata": {
        "id": "SjN9pkaA-xZB"
      },
      "outputs": [],
      "source": [
        "# salva o modelo em um arquivo\n",
        "m.write('mip1.sol')"
      ]
    }
  ],
  "metadata": {
    "kernelspec": {
      "display_name": "Python 3",
      "language": "python",
      "name": "python3"
    },
    "language_info": {
      "codemirror_mode": {
        "name": "ipython",
        "version": 3
      },
      "file_extension": ".py",
      "mimetype": "text/x-python",
      "name": "python",
      "nbconvert_exporter": "python",
      "pygments_lexer": "ipython3",
      "version": "3.9.15"
    },
    "orig_nbformat": 4,
    "colab": {
      "provenance": [],
      "include_colab_link": true
    }
  },
  "nbformat": 4,
  "nbformat_minor": 0
}