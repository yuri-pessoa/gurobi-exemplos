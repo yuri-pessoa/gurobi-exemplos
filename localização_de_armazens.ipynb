{
 "cells": [
  {
   "cell_type": "code",
   "execution_count": 1,
   "id": "efe91895",
   "metadata": {},
   "outputs": [],
   "source": [
    "# o primeiro passo é importar as bibliotecas que vamos utilizar\n",
    "\n",
    "from itertools import product # importando da biblioteca itertools o módulo produto\n",
    "from math import sqrt # importando da biblioteca math o módulo raiz quadrada\n",
    "\n",
    "import gurobipy as gp    #importando a biblioteca gurobi\n",
    "from gurobipy import GRB #importando o módulo GRB"
   ]
  },
  {
   "cell_type": "code",
   "execution_count": 2,
   "id": "568c6cce",
   "metadata": {},
   "outputs": [],
   "source": [
    "# em seguida inserimos os parâmetros do problema\n",
    "\n",
    "clientes_coordenadas = [(0,1.5),(2.5,1.2)] # latitude e longitude\n",
    "armazens_coordenadas = [(0,0),(0,1),(0,2),(1,0),(1,1),(1,2),(2,0),(2,1),(2,2)] # latitude e longitude\n",
    "custo_instalacao = [3,2,3,1,3,3,4,3,2] # custo em milhões de reais\n",
    "custo_km_percorrido = 3 # custo em milhões de reais"
   ]
  },
  {
   "cell_type": "code",
   "execution_count": 3,
   "id": "4e63d4ae",
   "metadata": {},
   "outputs": [],
   "source": [
    "# agora vamos utilizar a função 'def' para definirmos as distância euclidiana entre \n",
    "# os armazens e os clientes\n",
    "\n",
    "def computar_distancia(loc_cliente1,loc_cliente2):\n",
    "    dx = loc_cliente1[0] - loc_cliente2[0]\n",
    "    dy = loc_cliente1[1] - loc_cliente2[1]\n",
    "    return sqrt(dx*dx + dy*dy)      \n",
    "\n",
    "# equação para obtermos a distância em um espaço euclidiano bidimensional"
   ]
  },
  {
   "cell_type": "code",
   "execution_count": 4,
   "id": "dbcd139b",
   "metadata": {},
   "outputs": [],
   "source": [
    "# agora criamos objetos para computar os parâmetros do problema \n",
    "\n",
    "num_armazens = len(armazens_coordenadas)   #retorna o número de armazens\n",
    "num_clientes = len(clientes_coordenadas)  #retorna o número de clientes\n",
    "produto_cartesiano = list(product(range(num_clientes),(range(num_armazens))))\n",
    "\n",
    "# em seguida criamos um objeto para calcular os custos de transporte\n",
    "custo_transporte = {(c,a): custo_km_percorrido*computar_distancia(clientes_coordenadas[c], armazens_coordenadas[a]) for c, a in produto_cartesiano}\n"
   ]
  },
  {
   "cell_type": "code",
   "execution_count": 5,
   "id": "e7352be6",
   "metadata": {},
   "outputs": [
    {
     "name": "stdout",
     "output_type": "stream",
     "text": [
      "Gurobi Optimizer version 9.5.2 build v9.5.2rc0 (win64)\n",
      "Thread count: 4 physical cores, 8 logical processors, using up to 8 threads\n",
      "Optimize a model with 20 rows, 27 columns and 54 nonzeros\n",
      "Model fingerprint: 0x3f7f780f\n",
      "Variable types: 18 continuous, 9 integer (9 binary)\n",
      "Coefficient statistics:\n",
      "  Matrix range     [1e+00, 1e+00]\n",
      "  Objective range  [1e+00, 8e+00]\n",
      "  Bounds range     [1e+00, 1e+00]\n",
      "  RHS range        [1e+00, 1e+00]\n",
      "Presolve time: 0.00s\n",
      "Presolved: 20 rows, 27 columns, 54 nonzeros\n",
      "Variable types: 18 continuous, 9 integer (9 binary)\n",
      "Found heuristic solution: objective 8.1155494\n",
      "\n",
      "Root relaxation: cutoff, 7 iterations, 0.00 seconds (0.00 work units)\n",
      "\n",
      "    Nodes    |    Current Node    |     Objective Bounds      |     Work\n",
      " Expl Unexpl |  Obj  Depth IntInf | Incumbent    BestBd   Gap | It/Node Time\n",
      "\n",
      "     0     0     cutoff    0         8.11555    8.11555  0.00%     -    0s\n",
      "\n",
      "Explored 1 nodes (7 simplex iterations) in 0.02 seconds (0.00 work units)\n",
      "Thread count was 8 (of 8 available processors)\n",
      "\n",
      "Solution count 1: 8.11555 \n",
      "\n",
      "Optimal solution found (tolerance 1.00e-04)\n",
      "Best objective 8.115549442140e+00, best bound 8.115549442140e+00, gap 0.0000%\n"
     ]
    }
   ],
   "source": [
    "# agora vamos formular um modelo inteiro misto (MIP)\n",
    "\n",
    "m = gp.Model('localização_armazens') #criando o modelo\n",
    "\n",
    "selecionar = m.addVars(num_armazens, vtype=GRB.BINARY, name='selecionar') #inserindo a variável decisória binária armazem ativo/inativo no modelo\n",
    "alocar = m.addVars(produto_cartesiano, ub=1, vtype=GRB.CONTINUOUS, name='alocar') #inserindo a variável decisória contínua fluxo no modelo\n",
    "\n",
    "m.addConstrs((alocar[(c,a)] <= selecionar[a] for c,a in produto_cartesiano), name='preparar para envio') #adicionando restrição de capacidade onde só enviamos de armazens ativos\n",
    "m.addConstrs((gp.quicksum(alocar[(c,a)] for a in range(num_armazens)) == 1 for c in range(num_clientes)), name='demanda') #adicionado restrição de demanda onde a soma das frações é igual a 1\n",
    "\n",
    "m.setObjective(selecionar.prod(custo_instalacao)+alocar.prod(custo_transporte), GRB.MINIMIZE) #inserindo a função objetivo\n",
    "\n",
    "m.optimize()"
   ]
  },
  {
   "cell_type": "markdown",
   "id": "fc7fc9f8",
   "metadata": {},
   "source": [
    "**ANÁLISE DA SOLUÇÃO** \n",
    "\n",
    "O resultado da solução mostra que o custo mínimo total é de 8,11 milhões de reais"
   ]
  },
  {
   "cell_type": "code",
   "execution_count": 6,
   "id": "5ad91c9a",
   "metadata": {},
   "outputs": [
    {
     "name": "stdout",
     "output_type": "stream",
     "text": [
      "\n",
      " Construa um armazem na localização 2.\n",
      "\n",
      " Construa um armazem na localização 8.\n"
     ]
    }
   ],
   "source": [
    "# em seguida vamos mostrar a localização dos armazens selecionados utilizando um algoritmo\n",
    "\n",
    "for facility in selecionar.keys():\n",
    "    if(abs(selecionar[facility].x) > 1e-6):\n",
    "        print(f'\\n Construa um armazem na localização {facility + 1}.')\n",
    "    "
   ]
  },
  {
   "cell_type": "code",
   "execution_count": 7,
   "id": "241db80f",
   "metadata": {},
   "outputs": [
    {
     "name": "stdout",
     "output_type": "stream",
     "text": [
      "\n",
      " Supermercado 1 recebe 100.0 % de sua demanda do armazem 2.\n",
      "\n",
      " Supermercado 2 recebe 100.0 % de sua demanda do armazem 8.\n"
     ]
    }
   ],
   "source": [
    "# agora vamos mostrar a capacidade utilizada dos armazens\n",
    "\n",
    "for customer, facility in alocar.keys():\n",
    "    if(abs(alocar[customer, facility].x) > 1e-6):\n",
    "        print(f'\\n Supermercado {customer +1} recebe {round(100*alocar[customer, facility].x, 2)} % de sua demanda do armazem {facility +1}.')\n",
    "    "
   ]
  }
 ],
 "metadata": {
  "kernelspec": {
   "display_name": "Python 3 (ipykernel)",
   "language": "python",
   "name": "python3"
  },
  "language_info": {
   "codemirror_mode": {
    "name": "ipython",
    "version": 3
   },
   "file_extension": ".py",
   "mimetype": "text/x-python",
   "name": "python",
   "nbconvert_exporter": "python",
   "pygments_lexer": "ipython3",
   "version": "3.9.12"
  }
 },
 "nbformat": 4,
 "nbformat_minor": 5
}
