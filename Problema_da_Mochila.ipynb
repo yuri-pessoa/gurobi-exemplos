{
  "cells": [
    {
      "cell_type": "markdown",
      "metadata": {
        "id": "view-in-github",
        "colab_type": "text"
      },
      "source": [
        "<a href=\"https://colab.research.google.com/github/yuri-pessoa/gurobi-exemplos/blob/main/Problema_da_Mochila.ipynb\" target=\"_parent\"><img src=\"https://colab.research.google.com/assets/colab-badge.svg\" alt=\"Open In Colab\"/></a>"
      ]
    },
    {
      "cell_type": "markdown",
      "id": "ca0aa9fa",
      "metadata": {
        "id": "ca0aa9fa"
      },
      "source": [
        "# Iniciando com Gurobi\n",
        "Primeiramente devemos instalar o Gurobi Python API com o comando `` %pip install gurobipy ``\n",
        "\n",
        "Esta aplicação fornece uma licença provisória do solver Gurobi, com recursos limitados. Para utilizar a licença com recursos completos, você deve aplicar para uma licença acadêmica no site."
      ]
    },
    {
      "cell_type": "markdown",
      "id": "1a28081c",
      "metadata": {
        "id": "1a28081c"
      },
      "source": [
        "Reprodução do problema da mochila originalmente elaborado pelo Professor Rafael Lima - UTFPR.\n",
        "<br>[Acesse a aula no YouTube](https://youtu.be/wUFbDj-LJIo \" Aula 03 - Modelando o Problema da Mochila com Gurobi\")."
      ]
    },
    {
      "cell_type": "code",
      "execution_count": null,
      "id": "e6800fdf",
      "metadata": {
        "id": "e6800fdf"
      },
      "outputs": [],
      "source": [
        "%pip install gurobipy"
      ]
    },
    {
      "cell_type": "code",
      "execution_count": null,
      "id": "6913db33",
      "metadata": {
        "id": "6913db33"
      },
      "outputs": [],
      "source": [
        "import gurobipy as gp\n",
        "from gurobipy import GRB"
      ]
    },
    {
      "cell_type": "code",
      "execution_count": null,
      "id": "6e593d56",
      "metadata": {
        "id": "6e593d56"
      },
      "outputs": [],
      "source": [
        "quantidade_itens = 15\n",
        "\n",
        "capacidade_mochila = 1000\n",
        "\n",
        "#criando rótulos dos itens\n",
        "itens = list()\n",
        "for i in range(quantidade_itens):\n",
        "    rotulo = 'Item_{}'.format(i + 1)\n",
        "    itens.append(rotulo)\n",
        "\n",
        "vetores_peso = [65, 94, 119, 59, 149, 114, 57, 136, 100, 150, 122, 117, 120, 130, 133]\n",
        "pesos = dict()\n",
        "for idx, peso in enumerate(vetores_peso):\n",
        "    rotulo = itens[idx]\n",
        "    pesos[rotulo] = peso\n",
        "\n",
        "vetores_valor = [455, 691, 833, 425, 1064, 758, 419, 914, 651, 966, 828, 827, 857, 837, 894]\n",
        "valores = dict()\n",
        "for idx, valor in enumerate(vetores_valor):\n",
        "    rotulo = itens[idx]\n",
        "    valores[rotulo] = valor\n",
        "\n",
        "print(valores)\n",
        "print(pesos)"
      ]
    },
    {
      "cell_type": "code",
      "execution_count": null,
      "id": "1b37ef86",
      "metadata": {
        "id": "1b37ef86"
      },
      "outputs": [],
      "source": [
        "# criando o modelo\n",
        "m = gp.Model('Problema da Mochila')\n",
        "\n",
        "# inserindo as variáveis de decisão\n",
        "x = m.addVars(itens, vtype=GRB.BINARY)\n",
        "\n",
        "# inserindo a função objetivo\n",
        "m.setObjective (gp.quicksum(x[i] * valores[i] for i in itens), sense=GRB.MAXIMIZE)\n",
        "\n",
        "#restrição de capacidade\n",
        "c1 = m.addConstr( gp.quicksum(x[i] * pesos[i] for i in itens) <= capacidade_mochila, 'capacidade')\n",
        "\n",
        "#resolvendo o modelo\n",
        "m.optimize()\n"
      ]
    },
    {
      "cell_type": "code",
      "execution_count": null,
      "id": "94f0beaf",
      "metadata": {
        "id": "94f0beaf"
      },
      "outputs": [],
      "source": [
        "for Item in itens:\n",
        "    if round(x[Item].X) == 1:\n",
        "        print('O {:s} foi incluído'.format(Item))\n",
        "    else:\n",
        "        print('O {:s} não foi incluído'.format(Item))"
      ]
    },
    {
      "cell_type": "code",
      "execution_count": null,
      "id": "eb8d986f",
      "metadata": {
        "id": "eb8d986f"
      },
      "outputs": [],
      "source": [
        "# Imprimindo os valores da solução\n",
        "print(\"Valor Total: R$\", m.objVal)\n",
        "print('Capacidade Utilizada:', capacidade_mochila - c1.Slack)"
      ]
    }
  ],
  "metadata": {
    "kernelspec": {
      "display_name": "Python 3 (ipykernel)",
      "language": "python",
      "name": "python3"
    },
    "language_info": {
      "codemirror_mode": {
        "name": "ipython",
        "version": 3
      },
      "file_extension": ".py",
      "mimetype": "text/x-python",
      "name": "python",
      "nbconvert_exporter": "python",
      "pygments_lexer": "ipython3",
      "version": "3.9.15"
    },
    "colab": {
      "provenance": [],
      "include_colab_link": true
    }
  },
  "nbformat": 4,
  "nbformat_minor": 5
}