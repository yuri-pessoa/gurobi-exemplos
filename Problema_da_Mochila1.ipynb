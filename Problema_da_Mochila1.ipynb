{
 "cells": [
  {
   "cell_type": "markdown",
   "id": "b298a15b",
   "metadata": {},
   "source": [
    "#Transcrição do problema da mochila originalmente apresentado pelo Professor Rafael Lima em seu [Canal no YouTube](https://youtu.be/wUFbDj-LJIo \"Modelando o Problema da Mochila com Gurobi\")."
   ]
  },
  {
   "cell_type": "code",
   "execution_count": null,
   "id": "6913db33",
   "metadata": {},
   "outputs": [],
   "source": [
    "import gurobipy as gp\n",
    "from gurobipy import GRB"
   ]
  },
  {
   "cell_type": "code",
   "execution_count": null,
   "id": "6e593d56",
   "metadata": {},
   "outputs": [],
   "source": [
    "quantidade_itens = 15\n",
    "capacidade_mochila = 1000\n",
    "\n",
    "#criando rótulos dos itens\n",
    "itens = list()\n",
    "for i in range(quantidade_itens):\n",
    "    rotulo = 'Item_{}'.format(i + 1)\n",
    "    itens.append(rotulo)\n",
    "\n",
    "vetores_peso = [65, 94, 119, 59, 149, 114, 57, 136, 100, 150, 122, 117, 120, 130, 133]\n",
    "pesos = dict()\n",
    "for idx, peso in enumerate(vetores_peso):\n",
    "    rotulo = itens[idx]\n",
    "    pesos[rotulo] = peso \n",
    "\n",
    "vetores_valor = [455, 691, 833, 425, 1064, 758, 419, 914, 651, 966, 828, 827, 857, 837, 894]\n",
    "valores = dict()\n",
    "for idx, valor in enumerate(vetores_valor):\n",
    "    rotulo = itens[idx]\n",
    "    valores[rotulo] = valor\n",
    "\n",
    "print(valores)"
   ]
  },
  {
   "cell_type": "code",
   "execution_count": null,
   "id": "1b37ef86",
   "metadata": {},
   "outputs": [],
   "source": [
    "# criando o modelo\n",
    "m = gp.Model()\n",
    "\n",
    "# inserindo as variáveis de decisão\n",
    "x = m.addVars(itens, vtype=GRB.BINARY)\n",
    "\n",
    "# inserindo a função objetivo\n",
    "m.setObjective (gp.quicksum(x[i] * valores[i] for i in itens), sense=GRB.MAXIMIZE)\n",
    "\n",
    "#restrição de capacidade\n",
    "c1 = m.addConstr( gp.quicksum(x[i] * pesos[i] for i in itens) <= capacidade_mochila, 'capacidade')\n",
    "\n",
    "#resolvendo o modelo\n",
    "m.optimize()\n"
   ]
  },
  {
   "cell_type": "code",
   "execution_count": null,
   "id": "94f0beaf",
   "metadata": {},
   "outputs": [],
   "source": [
    "for Item in itens:\n",
    "    if round(x[Item].X) == 1:\n",
    "        print(Item)"
   ]
  },
  {
   "cell_type": "code",
   "execution_count": null,
   "id": "eb8d986f",
   "metadata": {},
   "outputs": [],
   "source": [
    "# Imprimindo os valores da solução\n",
    "print(\"Valor Total: R$\", m.objVal)\n",
    "print('Capacidade Utilizada:', capacidade_mochila - c1.Slack) "
   ]
  }
 ],
 "metadata": {
  "kernelspec": {
   "display_name": "Python 3 (ipykernel)",
   "language": "python",
   "name": "python3"
  },
  "language_info": {
   "codemirror_mode": {
    "name": "ipython",
    "version": 3
   },
   "file_extension": ".py",
   "mimetype": "text/x-python",
   "name": "python",
   "nbconvert_exporter": "python",
   "pygments_lexer": "ipython3",
   "version": "3.9.12"
  }
 },
 "nbformat": 4,
 "nbformat_minor": 5
}
